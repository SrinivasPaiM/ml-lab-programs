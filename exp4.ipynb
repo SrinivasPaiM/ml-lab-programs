{
 "cells": [
  {
   "cell_type": "code",
   "execution_count": 4,
   "id": "5d04487a",
   "metadata": {},
   "outputs": [
    {
     "name": "stdout",
     "output_type": "stream",
     "text": [
      "Training data:\n",
      "    Outlook Temperature Humidity  Windy PlayTennis\n",
      "0     Sunny         Hot     High  False         No\n",
      "1     Sunny         Hot     High   True         No\n",
      "2  Overcast         Hot     High  False        Yes\n",
      "3      Rain        Cold     High  False        Yes\n",
      "4      Rain        Cold     High   True         No\n",
      "5  Overcast         Hot     High   True        Yes\n",
      "6     Sunny         Hot     High  False         No\n",
      "Final Hypothesis: ['Overcast', 'Hot', 'High', '?']\n"
     ]
    },
    {
     "name": "stderr",
     "output_type": "stream",
     "text": [
      "C:\\Users\\reals\\AppData\\Local\\Temp\\ipykernel_23536\\888765777.py:11: FutureWarning: Series.__getitem__ treating keys as positions is deprecated. In a future version, integer keys will always be treated as labels (consistent with DataFrame behavior). To access a value by position, use `ser.iloc[pos]`\n",
      "  if row[-1] == 'Yes':\n",
      "C:\\Users\\reals\\AppData\\Local\\Temp\\ipykernel_23536\\888765777.py:14: FutureWarning: Series.__getitem__ treating keys as positions is deprecated. In a future version, integer keys will always be treated as labels (consistent with DataFrame behavior). To access a value by position, use `ser.iloc[pos]`\n",
      "  hypo[i] = row[i]\n",
      "C:\\Users\\reals\\AppData\\Local\\Temp\\ipykernel_23536\\888765777.py:15: FutureWarning: Series.__getitem__ treating keys as positions is deprecated. In a future version, integer keys will always be treated as labels (consistent with DataFrame behavior). To access a value by position, use `ser.iloc[pos]`\n",
      "  elif hypo[i] != row[i]:\n"
     ]
    }
   ],
   "source": [
    "import pandas as pd\n",
    "\n",
    "def find_s(file):\n",
    "    data = pd.read_csv(file)\n",
    "    print(\"Training data:\")\n",
    "    print(data)\n",
    "\n",
    "    hypo = ['?'] * (len(data.columns) - 1)\n",
    "\n",
    "    for _, row in data.iterrows():\n",
    "        if row[-1] == 'Yes':\n",
    "            for i in range(len(hypo)):\n",
    "                if hypo[i] == '?':\n",
    "                    hypo[i] = row[i]\n",
    "                elif hypo[i] != row[i]:\n",
    "                    hypo[i] = '?'\n",
    "    return hypo\n",
    "\n",
    "# Run the algorithm\n",
    "file = 'exp4_data.csv'\n",
    "print(\"Final Hypothesis:\", find_s(file))\n"
   ]
  }
 ],
 "metadata": {
  "kernelspec": {
   "display_name": "venv",
   "language": "python",
   "name": "python3"
  },
  "language_info": {
   "codemirror_mode": {
    "name": "ipython",
    "version": 3
   },
   "file_extension": ".py",
   "mimetype": "text/x-python",
   "name": "python",
   "nbconvert_exporter": "python",
   "pygments_lexer": "ipython3",
   "version": "3.12.4"
  }
 },
 "nbformat": 4,
 "nbformat_minor": 5
}
